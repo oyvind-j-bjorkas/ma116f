{
 "cells": [
  {
   "cell_type": "code",
   "execution_count": 1,
   "metadata": {},
   "outputs": [],
   "source": [
    "import pandas as pd\n",
    "import numpy as np"
   ]
  },
  {
   "cell_type": "code",
   "execution_count": 2,
   "metadata": {},
   "outputs": [
    {
     "name": "stdout",
     "output_type": "stream",
     "text": [
      "     AGE  GENDER (1=M)  PULSE  SYSTOLIC  DIASTOLIC  HDL  LDL  WHITE   RED  \\\n",
      "0     43             0     80       100         70   73   68    8.7  4.80   \n",
      "1     57             1     84       112         70   35  116    4.9  4.73   \n",
      "2     38             0     94       134         94   36  223    6.9  4.47   \n",
      "3     80             1     74       126         64   37   83    7.5  4.32   \n",
      "4     34             1     50       114         68   50  104    6.1  4.95   \n",
      "..   ...           ...    ...       ...        ...  ...  ...    ...   ...   \n",
      "295   24             1     94        96         62   43  102    7.0  5.29   \n",
      "296   50             0     94       132         84   42   69    7.9  4.35   \n",
      "297   53             1     86       132         74   42  112    8.4  4.07   \n",
      "298   34             0     74       104         54   44  103    7.6  4.36   \n",
      "299   31             1     90       104         70   64  112    6.0  5.07   \n",
      "\n",
      "     PLATE  WEIGHT  HEIGHT  WAIST  ARM CIRC   BMI  \n",
      "0      319    98.6   172.0  120.4      40.7  33.3  \n",
      "1      187    96.9   186.0  107.8      37.0  28.0  \n",
      "2      297   108.2   154.4  120.3      44.3  45.4  \n",
      "3      170    73.1   160.5   97.2      30.3  28.4  \n",
      "4      140    83.1   179.0   95.1      34.0  25.9  \n",
      "..     ...     ...     ...    ...       ...   ...  \n",
      "295    260    56.3   162.7   78.4      27.9  21.3  \n",
      "296    244   103.2   146.7  142.6      39.5  48.0  \n",
      "297     75   102.6   181.0  117.7      36.5  31.3  \n",
      "298    292    96.1   162.2  109.0      37.0  36.5  \n",
      "299    197    56.4   165.4   74.0      26.5  20.6  \n",
      "\n",
      "[300 rows x 15 columns]\n"
     ]
    }
   ],
   "source": [
    "bodydata = pd.read_excel(\"../Excel/01 - Body Data.xlsx\", engine=\"openpyxl\")\n",
    "print(bodydata)"
   ]
  },
  {
   "cell_type": "code",
   "execution_count": 3,
   "metadata": {},
   "outputs": [
    {
     "data": {
      "text/html": [
       "<div>\n",
       "<style scoped>\n",
       "    .dataframe tbody tr th:only-of-type {\n",
       "        vertical-align: middle;\n",
       "    }\n",
       "\n",
       "    .dataframe tbody tr th {\n",
       "        vertical-align: top;\n",
       "    }\n",
       "\n",
       "    .dataframe thead th {\n",
       "        text-align: right;\n",
       "    }\n",
       "</style>\n",
       "<table border=\"1\" class=\"dataframe\">\n",
       "  <thead>\n",
       "    <tr style=\"text-align: right;\">\n",
       "      <th></th>\n",
       "      <th>AGE</th>\n",
       "      <th>GENDER (1=M)</th>\n",
       "      <th>PULSE</th>\n",
       "      <th>SYSTOLIC</th>\n",
       "      <th>DIASTOLIC</th>\n",
       "      <th>HDL</th>\n",
       "      <th>LDL</th>\n",
       "      <th>WHITE</th>\n",
       "      <th>RED</th>\n",
       "      <th>PLATE</th>\n",
       "      <th>WEIGHT</th>\n",
       "      <th>HEIGHT</th>\n",
       "      <th>WAIST</th>\n",
       "      <th>ARM CIRC</th>\n",
       "      <th>BMI</th>\n",
       "    </tr>\n",
       "  </thead>\n",
       "  <tbody>\n",
       "    <tr>\n",
       "      <th>count</th>\n",
       "      <td>300.000000</td>\n",
       "      <td>300.000000</td>\n",
       "      <td>300.000000</td>\n",
       "      <td>300.000000</td>\n",
       "      <td>300.000000</td>\n",
       "      <td>300.000000</td>\n",
       "      <td>300.000000</td>\n",
       "      <td>300.000000</td>\n",
       "      <td>300.000000</td>\n",
       "      <td>300.000000</td>\n",
       "      <td>300.000000</td>\n",
       "      <td>300.000000</td>\n",
       "      <td>300.000000</td>\n",
       "      <td>300.000000</td>\n",
       "      <td>300.000000</td>\n",
       "    </tr>\n",
       "    <tr>\n",
       "      <th>mean</th>\n",
       "      <td>47.040000</td>\n",
       "      <td>0.510000</td>\n",
       "      <td>71.766667</td>\n",
       "      <td>122.960000</td>\n",
       "      <td>70.753333</td>\n",
       "      <td>53.663333</td>\n",
       "      <td>113.713333</td>\n",
       "      <td>6.542333</td>\n",
       "      <td>4.537767</td>\n",
       "      <td>239.373333</td>\n",
       "      <td>81.656333</td>\n",
       "      <td>168.030333</td>\n",
       "      <td>99.178333</td>\n",
       "      <td>33.078333</td>\n",
       "      <td>28.912333</td>\n",
       "    </tr>\n",
       "    <tr>\n",
       "      <th>std</th>\n",
       "      <td>18.269583</td>\n",
       "      <td>0.500735</td>\n",
       "      <td>12.128033</td>\n",
       "      <td>15.851687</td>\n",
       "      <td>11.616179</td>\n",
       "      <td>15.438409</td>\n",
       "      <td>35.188995</td>\n",
       "      <td>1.910009</td>\n",
       "      <td>0.484610</td>\n",
       "      <td>64.227496</td>\n",
       "      <td>19.675182</td>\n",
       "      <td>9.579338</td>\n",
       "      <td>16.477337</td>\n",
       "      <td>4.815037</td>\n",
       "      <td>6.746703</td>\n",
       "    </tr>\n",
       "    <tr>\n",
       "      <th>min</th>\n",
       "      <td>18.000000</td>\n",
       "      <td>0.000000</td>\n",
       "      <td>36.000000</td>\n",
       "      <td>88.000000</td>\n",
       "      <td>40.000000</td>\n",
       "      <td>26.000000</td>\n",
       "      <td>39.000000</td>\n",
       "      <td>2.700000</td>\n",
       "      <td>3.390000</td>\n",
       "      <td>75.000000</td>\n",
       "      <td>39.000000</td>\n",
       "      <td>134.500000</td>\n",
       "      <td>64.400000</td>\n",
       "      <td>20.500000</td>\n",
       "      <td>15.900000</td>\n",
       "    </tr>\n",
       "    <tr>\n",
       "      <th>25%</th>\n",
       "      <td>31.000000</td>\n",
       "      <td>0.000000</td>\n",
       "      <td>64.000000</td>\n",
       "      <td>112.000000</td>\n",
       "      <td>64.000000</td>\n",
       "      <td>43.000000</td>\n",
       "      <td>85.000000</td>\n",
       "      <td>5.200000</td>\n",
       "      <td>4.197500</td>\n",
       "      <td>198.000000</td>\n",
       "      <td>67.075000</td>\n",
       "      <td>161.575000</td>\n",
       "      <td>87.875000</td>\n",
       "      <td>29.475000</td>\n",
       "      <td>24.500000</td>\n",
       "    </tr>\n",
       "    <tr>\n",
       "      <th>50%</th>\n",
       "      <td>46.000000</td>\n",
       "      <td>1.000000</td>\n",
       "      <td>72.000000</td>\n",
       "      <td>121.000000</td>\n",
       "      <td>70.000000</td>\n",
       "      <td>52.000000</td>\n",
       "      <td>113.000000</td>\n",
       "      <td>6.200000</td>\n",
       "      <td>4.490000</td>\n",
       "      <td>232.000000</td>\n",
       "      <td>80.500000</td>\n",
       "      <td>168.350000</td>\n",
       "      <td>96.950000</td>\n",
       "      <td>33.050000</td>\n",
       "      <td>28.000000</td>\n",
       "    </tr>\n",
       "    <tr>\n",
       "      <th>75%</th>\n",
       "      <td>62.000000</td>\n",
       "      <td>1.000000</td>\n",
       "      <td>80.000000</td>\n",
       "      <td>132.000000</td>\n",
       "      <td>78.000000</td>\n",
       "      <td>62.000000</td>\n",
       "      <td>137.250000</td>\n",
       "      <td>7.825000</td>\n",
       "      <td>4.882500</td>\n",
       "      <td>263.500000</td>\n",
       "      <td>92.800000</td>\n",
       "      <td>174.625000</td>\n",
       "      <td>109.100000</td>\n",
       "      <td>36.325000</td>\n",
       "      <td>31.975000</td>\n",
       "    </tr>\n",
       "    <tr>\n",
       "      <th>max</th>\n",
       "      <td>80.000000</td>\n",
       "      <td>1.000000</td>\n",
       "      <td>104.000000</td>\n",
       "      <td>186.000000</td>\n",
       "      <td>102.000000</td>\n",
       "      <td>138.000000</td>\n",
       "      <td>251.000000</td>\n",
       "      <td>14.300000</td>\n",
       "      <td>6.340000</td>\n",
       "      <td>646.000000</td>\n",
       "      <td>150.400000</td>\n",
       "      <td>193.300000</td>\n",
       "      <td>170.500000</td>\n",
       "      <td>46.600000</td>\n",
       "      <td>59.000000</td>\n",
       "    </tr>\n",
       "  </tbody>\n",
       "</table>\n",
       "</div>"
      ],
      "text/plain": [
       "              AGE  GENDER (1=M)       PULSE    SYSTOLIC   DIASTOLIC  \\\n",
       "count  300.000000    300.000000  300.000000  300.000000  300.000000   \n",
       "mean    47.040000      0.510000   71.766667  122.960000   70.753333   \n",
       "std     18.269583      0.500735   12.128033   15.851687   11.616179   \n",
       "min     18.000000      0.000000   36.000000   88.000000   40.000000   \n",
       "25%     31.000000      0.000000   64.000000  112.000000   64.000000   \n",
       "50%     46.000000      1.000000   72.000000  121.000000   70.000000   \n",
       "75%     62.000000      1.000000   80.000000  132.000000   78.000000   \n",
       "max     80.000000      1.000000  104.000000  186.000000  102.000000   \n",
       "\n",
       "              HDL         LDL       WHITE         RED       PLATE      WEIGHT  \\\n",
       "count  300.000000  300.000000  300.000000  300.000000  300.000000  300.000000   \n",
       "mean    53.663333  113.713333    6.542333    4.537767  239.373333   81.656333   \n",
       "std     15.438409   35.188995    1.910009    0.484610   64.227496   19.675182   \n",
       "min     26.000000   39.000000    2.700000    3.390000   75.000000   39.000000   \n",
       "25%     43.000000   85.000000    5.200000    4.197500  198.000000   67.075000   \n",
       "50%     52.000000  113.000000    6.200000    4.490000  232.000000   80.500000   \n",
       "75%     62.000000  137.250000    7.825000    4.882500  263.500000   92.800000   \n",
       "max    138.000000  251.000000   14.300000    6.340000  646.000000  150.400000   \n",
       "\n",
       "           HEIGHT       WAIST    ARM CIRC         BMI  \n",
       "count  300.000000  300.000000  300.000000  300.000000  \n",
       "mean   168.030333   99.178333   33.078333   28.912333  \n",
       "std      9.579338   16.477337    4.815037    6.746703  \n",
       "min    134.500000   64.400000   20.500000   15.900000  \n",
       "25%    161.575000   87.875000   29.475000   24.500000  \n",
       "50%    168.350000   96.950000   33.050000   28.000000  \n",
       "75%    174.625000  109.100000   36.325000   31.975000  \n",
       "max    193.300000  170.500000   46.600000   59.000000  "
      ]
     },
     "execution_count": 3,
     "metadata": {},
     "output_type": "execute_result"
    }
   ],
   "source": [
    "bodydata.describe()"
   ]
  },
  {
   "cell_type": "code",
   "execution_count": 29,
   "metadata": {},
   "outputs": [
    {
     "data": {
      "text/plain": [
       "count    300.000000\n",
       "mean      47.040000\n",
       "std       18.269583\n",
       "min       18.000000\n",
       "25%       31.000000\n",
       "50%       46.000000\n",
       "75%       62.000000\n",
       "max       80.000000\n",
       "Name: AGE, dtype: float64"
      ]
     },
     "execution_count": 29,
     "metadata": {},
     "output_type": "execute_result"
    }
   ],
   "source": [
    "ages=bodydata['AGE']\n",
    "ages.describe()"
   ]
  },
  {
   "cell_type": "code",
   "execution_count": 30,
   "metadata": {},
   "outputs": [
    {
     "data": {
      "text/plain": [
       "(-0.001, 10.0]     0\n",
       "(10.0, 20.0]      22\n",
       "(20.0, 30.0]      50\n",
       "(30.0, 40.0]      44\n",
       "(40.0, 50.0]      51\n",
       "(50.0, 60.0]      52\n",
       "(60.0, 70.0]      48\n",
       "(70.0, 80.0]      33\n",
       "(80.0, 90.0]       0\n",
       "(90.0, 100.0]      0\n",
       "Name: AGE, dtype: int64"
      ]
     },
     "execution_count": 30,
     "metadata": {},
     "output_type": "execute_result"
    }
   ],
   "source": [
    "ages.value_counts(bins=range(0,110,10), sort=False)"
   ]
  },
  {
   "cell_type": "code",
   "execution_count": 32,
   "metadata": {},
   "outputs": [
    {
     "data": {
      "text/plain": [
       "<AxesSubplot:>"
      ]
     },
     "execution_count": 32,
     "metadata": {},
     "output_type": "execute_result"
    },
    {
     "data": {
      "image/png": "[encoded data removed]",
      "text/plain": [
       "<Figure size 432x288 with 1 Axes>"
      ]
     },
     "metadata": {
      "needs_background": "light"
     },
     "output_type": "display_data"
    }
   ],
   "source": [
    "ages.hist(bins=range(0,110,10))"
   ]
  },
  {
   "cell_type": "code",
   "execution_count": 4,
   "metadata": {},
   "outputs": [
    {
     "data": {
      "text/plain": [
       "0      8.7\n",
       "1      4.9\n",
       "2      6.9\n",
       "3      7.5\n",
       "4      6.1\n",
       "      ... \n",
       "295    7.0\n",
       "296    7.9\n",
       "297    8.4\n",
       "298    7.6\n",
       "299    6.0\n",
       "Name: WHITE, Length: 300, dtype: float64"
      ]
     },
     "execution_count": 4,
     "metadata": {},
     "output_type": "execute_result"
    }
   ],
   "source": [
    "bodydata['WHITE']"
   ]
  },
  {
   "cell_type": "code",
   "execution_count": 5,
   "metadata": {},
   "outputs": [
    {
     "data": {
      "text/plain": [
       "count    300.000000\n",
       "mean       6.542333\n",
       "std        1.910009\n",
       "min        2.700000\n",
       "25%        5.200000\n",
       "50%        6.200000\n",
       "75%        7.825000\n",
       "max       14.300000\n",
       "Name: WHITE, dtype: float64"
      ]
     },
     "execution_count": 5,
     "metadata": {},
     "output_type": "execute_result"
    }
   ],
   "source": [
    "bodydata['WHITE'].describe()"
   ]
  },
  {
   "cell_type": "code",
   "execution_count": 7,
   "metadata": {},
   "outputs": [
    {
     "data": {
      "text/plain": [
       "(1.999, 3.0]     2\n",
       "(3.0, 4.0]      17\n",
       "(4.0, 5.0]      41\n",
       "(5.0, 6.0]      76\n",
       "(6.0, 7.0]      65\n",
       "(7.0, 8.0]      31\n",
       "(8.0, 9.0]      34\n",
       "(9.0, 10.0]     21\n",
       "(10.0, 11.0]     7\n",
       "(11.0, 12.0]     3\n",
       "(12.0, 13.0]     2\n",
       "(13.0, 14.0]     0\n",
       "Name: WHITE, dtype: int64"
      ]
     },
     "execution_count": 7,
     "metadata": {},
     "output_type": "execute_result"
    }
   ],
   "source": [
    "bodydata['WHITE'].value_counts(bins=range(2,15,1),sort=False)"
   ]
  },
  {
   "cell_type": "code",
   "execution_count": 8,
   "metadata": {},
   "outputs": [
    {
     "data": {
      "text/plain": [
       "<AxesSubplot:>"
      ]
     },
     "execution_count": 8,
     "metadata": {},
     "output_type": "execute_result"
    },
    {
     "data": {
      "image/png": "[encoded data removed]",
      "text/plain": [
       "<Figure size 432x288 with 1 Axes>"
      ]
     },
     "metadata": {
      "needs_background": "light"
     },
     "output_type": "display_data"
    }
   ],
   "source": [
    "bodydata['WHITE'].hist(bins=range(2,15,1))"
   ]
  },
  {
   "cell_type": "code",
   "execution_count": 14,
   "metadata": {},
   "outputs": [
    {
     "data": {
      "text/plain": [
       "<AxesSubplot:xlabel='HDL', ylabel='LDL'>"
      ]
     },
     "execution_count": 14,
     "metadata": {},
     "output_type": "execute_result"
    },
    {
     "data": {
      "image/png": "[encoded data removed]",
      "text/plain": [
       "<Figure size 432x288 with 1 Axes>"
      ]
     },
     "metadata": {
      "needs_background": "light"
     },
     "output_type": "display_data"
    }
   ],
   "source": [
    "bodydata.plot.scatter('HDL', 'LDL')"
   ]
  },
  {
   "cell_type": "code",
   "execution_count": null,
   "metadata": {},
   "outputs": [],
   "source": []
  }
 ],
 "metadata": {
  "kernelspec": {
   "display_name": "Python 3",
   "language": "python",
   "name": "python3"
  },
  "language_info": {
   "codemirror_mode": {
    "name": "ipython",
    "version": 3
   },
   "file_extension": ".py",
   "mimetype": "text/x-python",
   "name": "python",
   "nbconvert_exporter": "python",
   "pygments_lexer": "ipython3",
   "version": "3.8.6"
  }
 },
 "nbformat": 4,
 "nbformat_minor": 4
}
