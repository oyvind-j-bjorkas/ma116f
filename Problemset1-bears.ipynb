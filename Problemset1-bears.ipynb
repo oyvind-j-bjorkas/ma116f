{
 "cells": [
  {
   "cell_type": "code",
   "execution_count": 41,
   "metadata": {},
   "outputs": [],
   "source": [
    "import pandas as pd\n",
    "import numpy as np"
   ]
  },
  {
   "cell_type": "code",
   "execution_count": 46,
   "metadata": {},
   "outputs": [
    {
     "data": {
      "text/html": [
       "<div>\n",
       "<style scoped>\n",
       "    .dataframe tbody tr th:only-of-type {\n",
       "        vertical-align: middle;\n",
       "    }\n",
       "\n",
       "    .dataframe tbody tr th {\n",
       "        vertical-align: top;\n",
       "    }\n",
       "\n",
       "    .dataframe thead th {\n",
       "        text-align: right;\n",
       "    }\n",
       "</style>\n",
       "<table border=\"1\" class=\"dataframe\">\n",
       "  <thead>\n",
       "    <tr style=\"text-align: right;\">\n",
       "      <th></th>\n",
       "      <th>AGE</th>\n",
       "      <th>MONTH</th>\n",
       "      <th>SEX (1=M)</th>\n",
       "      <th>HEADLEN</th>\n",
       "      <th>HEADWDTH</th>\n",
       "      <th>NECK</th>\n",
       "      <th>LENGTH</th>\n",
       "      <th>CHEST</th>\n",
       "      <th>WEIGHT</th>\n",
       "    </tr>\n",
       "  </thead>\n",
       "  <tbody>\n",
       "    <tr>\n",
       "      <th>count</th>\n",
       "      <td>54.000000</td>\n",
       "      <td>54.000000</td>\n",
       "      <td>54.000000</td>\n",
       "      <td>54.000000</td>\n",
       "      <td>54.000000</td>\n",
       "      <td>54.000000</td>\n",
       "      <td>54.000000</td>\n",
       "      <td>54.000000</td>\n",
       "      <td>54.000000</td>\n",
       "    </tr>\n",
       "    <tr>\n",
       "      <th>mean</th>\n",
       "      <td>43.518519</td>\n",
       "      <td>8.407407</td>\n",
       "      <td>0.648148</td>\n",
       "      <td>12.953704</td>\n",
       "      <td>6.194444</td>\n",
       "      <td>20.555556</td>\n",
       "      <td>58.616667</td>\n",
       "      <td>35.662963</td>\n",
       "      <td>182.888889</td>\n",
       "    </tr>\n",
       "    <tr>\n",
       "      <th>std</th>\n",
       "      <td>33.720684</td>\n",
       "      <td>2.004886</td>\n",
       "      <td>0.482032</td>\n",
       "      <td>2.144032</td>\n",
       "      <td>1.512266</td>\n",
       "      <td>5.640710</td>\n",
       "      <td>10.700868</td>\n",
       "      <td>9.351729</td>\n",
       "      <td>121.801209</td>\n",
       "    </tr>\n",
       "    <tr>\n",
       "      <th>min</th>\n",
       "      <td>8.000000</td>\n",
       "      <td>4.000000</td>\n",
       "      <td>0.000000</td>\n",
       "      <td>9.000000</td>\n",
       "      <td>4.000000</td>\n",
       "      <td>10.000000</td>\n",
       "      <td>36.000000</td>\n",
       "      <td>19.000000</td>\n",
       "      <td>26.000000</td>\n",
       "    </tr>\n",
       "    <tr>\n",
       "      <th>25%</th>\n",
       "      <td>17.000000</td>\n",
       "      <td>8.000000</td>\n",
       "      <td>0.000000</td>\n",
       "      <td>11.500000</td>\n",
       "      <td>5.000000</td>\n",
       "      <td>16.625000</td>\n",
       "      <td>50.500000</td>\n",
       "      <td>29.000000</td>\n",
       "      <td>87.000000</td>\n",
       "    </tr>\n",
       "    <tr>\n",
       "      <th>50%</th>\n",
       "      <td>34.000000</td>\n",
       "      <td>9.000000</td>\n",
       "      <td>1.000000</td>\n",
       "      <td>13.000000</td>\n",
       "      <td>6.000000</td>\n",
       "      <td>20.000000</td>\n",
       "      <td>60.750000</td>\n",
       "      <td>34.000000</td>\n",
       "      <td>150.000000</td>\n",
       "    </tr>\n",
       "    <tr>\n",
       "      <th>75%</th>\n",
       "      <td>57.750000</td>\n",
       "      <td>10.000000</td>\n",
       "      <td>1.000000</td>\n",
       "      <td>14.500000</td>\n",
       "      <td>7.000000</td>\n",
       "      <td>24.000000</td>\n",
       "      <td>66.125000</td>\n",
       "      <td>43.500000</td>\n",
       "      <td>232.000000</td>\n",
       "    </tr>\n",
       "    <tr>\n",
       "      <th>max</th>\n",
       "      <td>177.000000</td>\n",
       "      <td>11.000000</td>\n",
       "      <td>1.000000</td>\n",
       "      <td>17.000000</td>\n",
       "      <td>10.000000</td>\n",
       "      <td>31.500000</td>\n",
       "      <td>76.500000</td>\n",
       "      <td>55.000000</td>\n",
       "      <td>514.000000</td>\n",
       "    </tr>\n",
       "  </tbody>\n",
       "</table>\n",
       "</div>"
      ],
      "text/plain": [
       "              AGE      MONTH  SEX (1=M)    HEADLEN   HEADWDTH       NECK  \\\n",
       "count   54.000000  54.000000  54.000000  54.000000  54.000000  54.000000   \n",
       "mean    43.518519   8.407407   0.648148  12.953704   6.194444  20.555556   \n",
       "std     33.720684   2.004886   0.482032   2.144032   1.512266   5.640710   \n",
       "min      8.000000   4.000000   0.000000   9.000000   4.000000  10.000000   \n",
       "25%     17.000000   8.000000   0.000000  11.500000   5.000000  16.625000   \n",
       "50%     34.000000   9.000000   1.000000  13.000000   6.000000  20.000000   \n",
       "75%     57.750000  10.000000   1.000000  14.500000   7.000000  24.000000   \n",
       "max    177.000000  11.000000   1.000000  17.000000  10.000000  31.500000   \n",
       "\n",
       "          LENGTH      CHEST      WEIGHT  \n",
       "count  54.000000  54.000000   54.000000  \n",
       "mean   58.616667  35.662963  182.888889  \n",
       "std    10.700868   9.351729  121.801209  \n",
       "min    36.000000  19.000000   26.000000  \n",
       "25%    50.500000  29.000000   87.000000  \n",
       "50%    60.750000  34.000000  150.000000  \n",
       "75%    66.125000  43.500000  232.000000  \n",
       "max    76.500000  55.000000  514.000000  "
      ]
     },
     "execution_count": 46,
     "metadata": {},
     "output_type": "execute_result"
    }
   ],
   "source": [
    "df = pd.read_excel(\"../Excel/11 - Bear Measurements.xlsx\", engine=\"openpyxl\")\n",
    "df.describe()"
   ]
  },
  {
   "cell_type": "code",
   "execution_count": 47,
   "metadata": {},
   "outputs": [
    {
     "data": {
      "text/html": [
       "<div>\n",
       "<style scoped>\n",
       "    .dataframe tbody tr th:only-of-type {\n",
       "        vertical-align: middle;\n",
       "    }\n",
       "\n",
       "    .dataframe tbody tr th {\n",
       "        vertical-align: top;\n",
       "    }\n",
       "\n",
       "    .dataframe thead th {\n",
       "        text-align: right;\n",
       "    }\n",
       "</style>\n",
       "<table border=\"1\" class=\"dataframe\">\n",
       "  <thead>\n",
       "    <tr style=\"text-align: right;\">\n",
       "      <th></th>\n",
       "      <th>AGE</th>\n",
       "      <th>MONTH</th>\n",
       "      <th>SEX (1=M)</th>\n",
       "      <th>HEADLEN</th>\n",
       "      <th>HEADWDTH</th>\n",
       "      <th>NECK</th>\n",
       "      <th>LENGTH</th>\n",
       "      <th>CHEST</th>\n",
       "      <th>WEIGHT</th>\n",
       "    </tr>\n",
       "  </thead>\n",
       "  <tbody>\n",
       "    <tr>\n",
       "      <th>count</th>\n",
       "      <td>54.000000</td>\n",
       "      <td>54.000000</td>\n",
       "      <td>54.000000</td>\n",
       "      <td>54.000000</td>\n",
       "      <td>54.000000</td>\n",
       "      <td>54.000000</td>\n",
       "      <td>54.000000</td>\n",
       "      <td>54.000000</td>\n",
       "      <td>54.000000</td>\n",
       "    </tr>\n",
       "    <tr>\n",
       "      <th>mean</th>\n",
       "      <td>43.518519</td>\n",
       "      <td>8.407407</td>\n",
       "      <td>0.648148</td>\n",
       "      <td>12.953704</td>\n",
       "      <td>6.194444</td>\n",
       "      <td>20.555556</td>\n",
       "      <td>58.616667</td>\n",
       "      <td>35.662963</td>\n",
       "      <td>182.888889</td>\n",
       "    </tr>\n",
       "    <tr>\n",
       "      <th>std</th>\n",
       "      <td>33.720684</td>\n",
       "      <td>2.004886</td>\n",
       "      <td>0.482032</td>\n",
       "      <td>2.144032</td>\n",
       "      <td>1.512266</td>\n",
       "      <td>5.640710</td>\n",
       "      <td>10.700868</td>\n",
       "      <td>9.351729</td>\n",
       "      <td>121.801209</td>\n",
       "    </tr>\n",
       "    <tr>\n",
       "      <th>min</th>\n",
       "      <td>8.000000</td>\n",
       "      <td>4.000000</td>\n",
       "      <td>0.000000</td>\n",
       "      <td>9.000000</td>\n",
       "      <td>4.000000</td>\n",
       "      <td>10.000000</td>\n",
       "      <td>36.000000</td>\n",
       "      <td>19.000000</td>\n",
       "      <td>26.000000</td>\n",
       "    </tr>\n",
       "    <tr>\n",
       "      <th>25%</th>\n",
       "      <td>17.000000</td>\n",
       "      <td>8.000000</td>\n",
       "      <td>0.000000</td>\n",
       "      <td>11.500000</td>\n",
       "      <td>5.000000</td>\n",
       "      <td>16.625000</td>\n",
       "      <td>50.500000</td>\n",
       "      <td>29.000000</td>\n",
       "      <td>87.000000</td>\n",
       "    </tr>\n",
       "    <tr>\n",
       "      <th>50%</th>\n",
       "      <td>34.000000</td>\n",
       "      <td>9.000000</td>\n",
       "      <td>1.000000</td>\n",
       "      <td>13.000000</td>\n",
       "      <td>6.000000</td>\n",
       "      <td>20.000000</td>\n",
       "      <td>60.750000</td>\n",
       "      <td>34.000000</td>\n",
       "      <td>150.000000</td>\n",
       "    </tr>\n",
       "    <tr>\n",
       "      <th>75%</th>\n",
       "      <td>57.750000</td>\n",
       "      <td>10.000000</td>\n",
       "      <td>1.000000</td>\n",
       "      <td>14.500000</td>\n",
       "      <td>7.000000</td>\n",
       "      <td>24.000000</td>\n",
       "      <td>66.125000</td>\n",
       "      <td>43.500000</td>\n",
       "      <td>232.000000</td>\n",
       "    </tr>\n",
       "    <tr>\n",
       "      <th>max</th>\n",
       "      <td>177.000000</td>\n",
       "      <td>11.000000</td>\n",
       "      <td>1.000000</td>\n",
       "      <td>17.000000</td>\n",
       "      <td>10.000000</td>\n",
       "      <td>31.500000</td>\n",
       "      <td>76.500000</td>\n",
       "      <td>55.000000</td>\n",
       "      <td>514.000000</td>\n",
       "    </tr>\n",
       "  </tbody>\n",
       "</table>\n",
       "</div>"
      ],
      "text/plain": [
       "              AGE      MONTH  SEX (1=M)    HEADLEN   HEADWDTH       NECK  \\\n",
       "count   54.000000  54.000000  54.000000  54.000000  54.000000  54.000000   \n",
       "mean    43.518519   8.407407   0.648148  12.953704   6.194444  20.555556   \n",
       "std     33.720684   2.004886   0.482032   2.144032   1.512266   5.640710   \n",
       "min      8.000000   4.000000   0.000000   9.000000   4.000000  10.000000   \n",
       "25%     17.000000   8.000000   0.000000  11.500000   5.000000  16.625000   \n",
       "50%     34.000000   9.000000   1.000000  13.000000   6.000000  20.000000   \n",
       "75%     57.750000  10.000000   1.000000  14.500000   7.000000  24.000000   \n",
       "max    177.000000  11.000000   1.000000  17.000000  10.000000  31.500000   \n",
       "\n",
       "          LENGTH      CHEST      WEIGHT  \n",
       "count  54.000000  54.000000   54.000000  \n",
       "mean   58.616667  35.662963  182.888889  \n",
       "std    10.700868   9.351729  121.801209  \n",
       "min    36.000000  19.000000   26.000000  \n",
       "25%    50.500000  29.000000   87.000000  \n",
       "50%    60.750000  34.000000  150.000000  \n",
       "75%    66.125000  43.500000  232.000000  \n",
       "max    76.500000  55.000000  514.000000  "
      ]
     },
     "execution_count": 47,
     "metadata": {},
     "output_type": "execute_result"
    }
   ],
   "source": [
    "df.describe()"
   ]
  },
  {
   "cell_type": "code",
   "execution_count": 48,
   "metadata": {},
   "outputs": [
    {
     "data": {
      "text/plain": [
       "count     54.000000\n",
       "mean      43.518519\n",
       "std       33.720684\n",
       "min        8.000000\n",
       "25%       17.000000\n",
       "50%       34.000000\n",
       "75%       57.750000\n",
       "max      177.000000\n",
       "Name: AGE, dtype: float64"
      ]
     },
     "execution_count": 48,
     "metadata": {},
     "output_type": "execute_result"
    }
   ],
   "source": [
    "ages=df['AGE']\n",
    "ages.describe()"
   ]
  },
  {
   "cell_type": "code",
   "execution_count": 49,
   "metadata": {},
   "outputs": [
    {
     "data": {
      "text/plain": [
       "(-0.001, 10.0]     8\n",
       "(10.0, 20.0]      10\n",
       "(20.0, 30.0]       4\n",
       "(30.0, 40.0]       7\n",
       "(40.0, 50.0]       4\n",
       "(50.0, 60.0]       9\n",
       "(60.0, 70.0]       3\n",
       "(70.0, 80.0]       0\n",
       "(80.0, 90.0]       5\n",
       "(90.0, 100.0]      1\n",
       "Name: AGE, dtype: int64"
      ]
     },
     "execution_count": 49,
     "metadata": {},
     "output_type": "execute_result"
    }
   ],
   "source": [
    "ages.value_counts(bins=range(0,110,10), sort=False)"
   ]
  },
  {
   "cell_type": "code",
   "execution_count": 32,
   "metadata": {},
   "outputs": [
    {
     "data": {
      "text/plain": [
       "<AxesSubplot:>"
      ]
     },
     "execution_count": 32,
     "metadata": {},
     "output_type": "execute_result"
    },
    {
     "data": {
      "image/png": "[encoded data removed]",
      "text/plain": [
       "<Figure size 432x288 with 1 Axes>"
      ]
     },
     "metadata": {
      "needs_background": "light"
     },
     "output_type": "display_data"
    }
   ],
   "source": [
    "ages.hist(bins=range(0,110,10))"
   ]
  },
  {
   "cell_type": "code",
   "execution_count": 51,
   "metadata": {},
   "outputs": [
    {
     "data": {
      "text/plain": [
       "14.75"
      ]
     },
     "execution_count": 51,
     "metadata": {},
     "output_type": "execute_result"
    }
   ],
   "source": [
    "ages.max()/12"
   ]
  },
  {
   "cell_type": "code",
   "execution_count": 54,
   "metadata": {},
   "outputs": [
    {
     "data": {
      "text/plain": [
       "<AxesSubplot:xlabel='LENGTH', ylabel='WEIGHT'>"
      ]
     },
     "execution_count": 54,
     "metadata": {},
     "output_type": "execute_result"
    },
    {
     "data": {
      "image/png": "[encoded data removed]",
      "text/plain": [
       "<Figure size 432x288 with 1 Axes>"
      ]
     },
     "metadata": {
      "needs_background": "light"
     },
     "output_type": "display_data"
    }
   ],
   "source": [
    "df.plot.scatter('LENGTH','WEIGHT')"
   ]
  },
  {
   "cell_type": "code",
   "execution_count": 55,
   "metadata": {},
   "outputs": [
    {
     "data": {
      "text/plain": [
       "58.61666666666667"
      ]
     },
     "execution_count": 55,
     "metadata": {},
     "output_type": "execute_result"
    }
   ],
   "source": [
    "df['LENGTH'].mean()"
   ]
  },
  {
   "cell_type": "code",
   "execution_count": 56,
   "metadata": {},
   "outputs": [
    {
     "data": {
      "text/plain": [
       "60.75"
      ]
     },
     "execution_count": 56,
     "metadata": {},
     "output_type": "execute_result"
    }
   ],
   "source": [
    "df['LENGTH'].median()"
   ]
  },
  {
   "cell_type": "code",
   "execution_count": 57,
   "metadata": {},
   "outputs": [
    {
     "data": {
      "text/plain": [
       "0    72.0\n",
       "dtype: float64"
      ]
     },
     "execution_count": 57,
     "metadata": {},
     "output_type": "execute_result"
    }
   ],
   "source": [
    "df['LENGTH'].mode()"
   ]
  },
  {
   "cell_type": "code",
   "execution_count": null,
   "metadata": {},
   "outputs": [],
   "source": []
  }
 ],
 "metadata": {
  "kernelspec": {
   "display_name": "Python 3",
   "language": "python",
   "name": "python3"
  },
  "language_info": {
   "codemirror_mode": {
    "name": "ipython",
    "version": 3
   },
   "file_extension": ".py",
   "mimetype": "text/x-python",
   "name": "python",
   "nbconvert_exporter": "python",
   "pygments_lexer": "ipython3",
   "version": "3.8.6"
  }
 },
 "nbformat": 4,
 "nbformat_minor": 4
}
